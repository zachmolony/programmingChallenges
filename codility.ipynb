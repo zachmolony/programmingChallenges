{
 "cells": [
  {
   "cell_type": "code",
   "execution_count": 1,
   "metadata": {},
   "outputs": [],
   "source": [
    "def binaryGap(N):\n",
    "    binary = '{0:b}'.format(N)\n",
    "    \n",
    "    scores = []\n",
    "    gap = False\n",
    "    count = 0\n",
    "    \n",
    "    for x in range(len(binary)):\n",
    "        if gap:\n",
    "            if binary[x] == \"1\":\n",
    "                scores.append(count)\n",
    "                gap = False\n",
    "                count = 0\n",
    "            else:\n",
    "                count += 1\n",
    "        if binary[x] == \"0\":\n",
    "            if binary[x-1] == \"1\":\n",
    "                gap = True\n",
    "                count += 1\n",
    "    \n",
    "    if len(scores) == 0:\n",
    "        return 0\n",
    "    \n",
    "    return max(scores)"
   ]
  },
  {
   "cell_type": "code",
   "execution_count": 15,
   "metadata": {},
   "outputs": [],
   "source": [
    "A = [3, 8, 9, 7, 6, 4, 67, 2, 3, 2, 6]\n",
    "K = 3"
   ]
  },
  {
   "cell_type": "code",
   "execution_count": 61,
   "metadata": {},
   "outputs": [],
   "source": [
    "#O(N)\n",
    "def cyclicRotation1(arr, k):\n",
    "    #return A[len(A)-K:] + A[:len(A)-K]     # cool but no\n",
    "    # k = k % len(arr)        # cool but calm down\n",
    "    for _ in range(k):\n",
    "        last = arr.pop()\n",
    "        arr.insert(0, last)\n",
    "    return arr"
   ]
  },
  {
   "cell_type": "code",
   "execution_count": 62,
   "metadata": {},
   "outputs": [
    {
     "data": {
      "text/plain": [
       "[3, 5, 1, 1, 2]"
      ]
     },
     "execution_count": 62,
     "metadata": {},
     "output_type": "execute_result"
    }
   ],
   "source": [
    "cyclicRotation([1, 1, 2, 3, 5], 42)"
   ]
  }
 ],
 "metadata": {
  "kernelspec": {
   "display_name": "Python 3",
   "language": "python",
   "name": "python3"
  },
  "language_info": {
   "codemirror_mode": {
    "name": "ipython",
    "version": 3
   },
   "file_extension": ".py",
   "mimetype": "text/x-python",
   "name": "python",
   "nbconvert_exporter": "python",
   "pygments_lexer": "ipython3",
   "version": "3.7.0"
  }
 },
 "nbformat": 4,
 "nbformat_minor": 2
}
