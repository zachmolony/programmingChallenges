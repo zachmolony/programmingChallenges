{
 "cells": [
  {
   "cell_type": "markdown",
   "metadata": {},
   "source": [
    "https://app.codility.com/programmers/lessons/1-iterations/"
   ]
  },
  {
   "cell_type": "code",
   "execution_count": 2,
   "metadata": {},
   "outputs": [],
   "source": [
    "#O(n)\n",
    "def binaryGap(N):\n",
    "    binary = '{0:b}'.format(N)\n",
    "    \n",
    "    scores = []\n",
    "    gap = False\n",
    "    count = 0\n",
    "    \n",
    "    for x in range(len(binary)):\n",
    "        if gap:\n",
    "            if binary[x] == \"1\":\n",
    "                scores.append(count)\n",
    "                gap = False\n",
    "                count = 0\n",
    "            else:\n",
    "                count += 1\n",
    "        if binary[x] == \"0\":\n",
    "            if binary[x-1] == \"1\":\n",
    "                gap = True\n",
    "                count += 1\n",
    "    \n",
    "    if len(scores) == 0:\n",
    "        return 0\n",
    "    \n",
    "    return max(scores)"
   ]
  },
  {
   "cell_type": "markdown",
   "metadata": {},
   "source": []
  },
  {
   "cell_type": "code",
   "execution_count": 15,
   "metadata": {},
   "outputs": [],
   "source": [
    "A = [3, 8, 9, 7, 6, 4, 67, 2, 3, 2, 6]\n",
    "K = 3"
   ]
  },
  {
   "cell_type": "code",
   "execution_count": 14,
   "metadata": {},
   "outputs": [],
   "source": [
    "#O(n)\n",
    "def cyclicRotation(arr, k):\n",
    "    for _ in range(k):\n",
    "        last = arr.pop()\n",
    "        arr.insert(0, last)\n",
    "    return arr"
   ]
  },
  {
   "cell_type": "code",
   "execution_count": 15,
   "metadata": {},
   "outputs": [
    {
     "data": {
      "text/plain": [
       "[3, 5, 1, 1, 2]"
      ]
     },
     "execution_count": 15,
     "metadata": {},
     "output_type": "execute_result"
    }
   ],
   "source": [
    "cyclicRotation([1, 1, 2, 3, 5], 42)"
   ]
  },
  {
   "cell_type": "code",
   "execution_count": 12,
   "metadata": {},
   "outputs": [],
   "source": [
    "#O(1)\n",
    "def cyclicRotation(arr, k):\n",
    "    k = k % len(arr)\n",
    "    return arr[len(arr)-k:] + arr[:len(arr)-k]"
   ]
  },
  {
   "cell_type": "code",
   "execution_count": null,
   "metadata": {},
   "outputs": [],
   "source": []
  },
  {
   "cell_type": "code",
   "execution_count": null,
   "metadata": {},
   "outputs": [],
   "source": []
  }
 ],
 "metadata": {
  "kernelspec": {
   "display_name": "Python 3",
   "language": "python",
   "name": "python3"
  },
  "language_info": {
   "codemirror_mode": {
    "name": "ipython",
    "version": 3
   },
   "file_extension": ".py",
   "mimetype": "text/x-python",
   "name": "python",
   "nbconvert_exporter": "python",
   "pygments_lexer": "ipython3",
   "version": "3.6.5"
  }
 },
 "nbformat": 4,
 "nbformat_minor": 2
}
