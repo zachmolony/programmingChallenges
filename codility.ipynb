{
 "cells": [
  {
   "cell_type": "code",
   "execution_count": 1,
   "metadata": {},
   "outputs": [],
   "source": [
    "def binaryGap(N):\n",
    "    binary = '{0:b}'.format(N)\n",
    "    \n",
    "    scores = []\n",
    "    gap = False\n",
    "    count = 0\n",
    "    \n",
    "    for x in range(len(binary)):\n",
    "        if gap:\n",
    "            if binary[x] == \"1\":\n",
    "                scores.append(count)\n",
    "                gap = False\n",
    "                count = 0\n",
    "            else:\n",
    "                count += 1\n",
    "        if binary[x] == \"0\":\n",
    "            if binary[x-1] == \"1\":\n",
    "                gap = True\n",
    "                count += 1\n",
    "    \n",
    "    if len(scores) == 0:\n",
    "        return 0\n",
    "    \n",
    "    return max(scores)"
   ]
  },
  {
   "cell_type": "code",
   "execution_count": null,
   "metadata": {},
   "outputs": [],
   "source": []
  }
 ],
 "metadata": {
  "kernelspec": {
   "display_name": "Python 3",
   "language": "python",
   "name": "python3"
  },
  "language_info": {
   "codemirror_mode": {
    "name": "ipython",
    "version": 3
   },
   "file_extension": ".py",
   "mimetype": "text/x-python",
   "name": "python",
   "nbconvert_exporter": "python",
   "pygments_lexer": "ipython3",
   "version": "3.7.0"
  }
 },
 "nbformat": 4,
 "nbformat_minor": 2
}
