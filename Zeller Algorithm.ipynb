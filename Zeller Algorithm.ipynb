{
 "cells": [
  {
   "cell_type": "markdown",
   "metadata": {},
   "source": [
    "## Zeller Algorithm\n",
    "\n",
    "\"Implement the Zeller algorithm to calculate the day of birth.\"\n",
    "\n",
    "Source : nrich.maths.org\n",
    "\n",
    "#### Input Description\n",
    "\n",
    "A numerical date, as integers. Format: Day,Month,Year\n",
    "\n",
    "#### Output Description\n",
    "\n",
    "String of the day of the week that the year input was on.\n",
    "\n",
    "#### Sample Input data\n",
    "\n",
    "```\n",
    "9,7,2018\n",
    "5,12,1990\n",
    "4,5,2003\n",
    "28,10,1890\n",
    "```\n",
    "\n",
    "#### Sample Output data\n",
    "\n",
    "```\n",
    "monday\n",
    "wednesday\n",
    "sunday\n",
    "tuesday\n",
    "```"
   ]
  },
  {
   "cell_type": "code",
   "execution_count": 12,
   "metadata": {},
   "outputs": [],
   "source": [
    "week = [\"sunday\", \"monday\", \"tuesday\", \"wednesday\", \"thursday\", \"friday\", \"saturday\"]"
   ]
  },
  {
   "cell_type": "code",
   "execution_count": 13,
   "metadata": {},
   "outputs": [],
   "source": [
    "def zeller(d,m,y):\n",
    "    if m == 1 or m == 2:\n",
    "        y -= 1\n",
    "        m += 12\n",
    "    yf = int(str(y)[:2])\n",
    "    yl = int(str(y)[2:])\n",
    "    a = (int(2.6*m-5.39) + int(yf/4) + int(yl/4) + d + yl - (2*yf))%7\n",
    "    return week[a]"
   ]
  },
  {
   "cell_type": "code",
   "execution_count": 14,
   "metadata": {},
   "outputs": [
    {
     "data": {
      "text/plain": [
       "'monday'"
      ]
     },
     "execution_count": 14,
     "metadata": {},
     "output_type": "execute_result"
    }
   ],
   "source": [
    "zeller(9,7,2018)"
   ]
  },
  {
   "cell_type": "code",
   "execution_count": 15,
   "metadata": {},
   "outputs": [
    {
     "data": {
      "text/plain": [
       "'wednesday'"
      ]
     },
     "execution_count": 15,
     "metadata": {},
     "output_type": "execute_result"
    }
   ],
   "source": [
    "zeller(5,12,1990)"
   ]
  }
 ],
 "metadata": {
  "kernelspec": {
   "display_name": "Python 3",
   "language": "python",
   "name": "python3"
  },
  "language_info": {
   "codemirror_mode": {
    "name": "ipython",
    "version": 3
   },
   "file_extension": ".py",
   "mimetype": "text/x-python",
   "name": "python",
   "nbconvert_exporter": "python",
   "pygments_lexer": "ipython3",
   "version": "3.5.2"
  }
 },
 "nbformat": 4,
 "nbformat_minor": 2
}
