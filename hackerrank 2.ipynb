{
 "cells": [
  {
   "cell_type": "code",
   "execution_count": 2,
   "metadata": {
    "collapsed": true
   },
   "outputs": [],
   "source": [
    "#!/bin/python3\n",
    "\n",
    "import math\n",
    "import os\n",
    "import random\n",
    "import re\n",
    "import sys"
   ]
  },
  {
   "cell_type": "code",
   "execution_count": 39,
   "metadata": {},
   "outputs": [
    {
     "ename": "SyntaxError",
     "evalue": "invalid syntax (<ipython-input-39-7e846106e506>, line 9)",
     "output_type": "error",
     "traceback": [
      "\u001b[1;36m  File \u001b[1;32m\"<ipython-input-39-7e846106e506>\"\u001b[1;36m, line \u001b[1;32m9\u001b[0m\n\u001b[1;33m    count++\u001b[0m\n\u001b[1;37m           ^\u001b[0m\n\u001b[1;31mSyntaxError\u001b[0m\u001b[1;31m:\u001b[0m invalid syntax\n"
     ]
    }
   ],
   "source": [
    "# Complete the sockMerchant function below.\n",
    "def sockMerchant(n, ar):\n",
    "    count = 0 \n",
    "    ar.sort()\n",
    "    print(ar)\n",
    "    i = 1\n",
    "    while i < n:\n",
    "        if ar[i] == ar[i-1]:\n",
    "            count += 1\n",
    "            i += 1\n",
    "        i += 1\n",
    "    return count"
   ]
  },
  {
   "cell_type": "code",
   "execution_count": 41,
   "metadata": {},
   "outputs": [
    {
     "name": "stdout",
     "output_type": "stream",
     "text": [
      "[10, 10, 10, 10, 20, 20, 20, 30, 50]\n"
     ]
    },
    {
     "data": {
      "text/plain": [
       "3"
      ]
     },
     "execution_count": 41,
     "metadata": {},
     "output_type": "execute_result"
    }
   ],
   "source": [
    "sockMerchant(9, [10, 20, 20, 10, 10, 30, 50, 10, 20])"
   ]
  },
  {
   "cell_type": "code",
   "execution_count": 58,
   "metadata": {
    "collapsed": true
   },
   "outputs": [],
   "source": [
    "# Complete the countingValleys function below.\n",
    "def countingValleys(n, s):\n",
    "    valley = False\n",
    "    vcount = 0 \n",
    "    level = 0\n",
    "    for char in s:\n",
    "        if char == \"D\":\n",
    "            level -= 1\n",
    "        else:\n",
    "            level += 1\n",
    "        if level < 0:\n",
    "            valley = True\n",
    "        if valley == True and level == 0:\n",
    "            valley = False\n",
    "            vcount += 1\n",
    "    return vcount"
   ]
  },
  {
   "cell_type": "code",
   "execution_count": 59,
   "metadata": {},
   "outputs": [
    {
     "data": {
      "text/plain": [
       "1"
      ]
     },
     "execution_count": 59,
     "metadata": {},
     "output_type": "execute_result"
    }
   ],
   "source": [
    "countingValleys(8, \"UDDDUDUU\")"
   ]
  },
  {
   "cell_type": "code",
   "execution_count": 13,
   "metadata": {
    "collapsed": true
   },
   "outputs": [],
   "source": [
    "def compareTriplets(a, b):\n",
    "    scores = [0,0]\n",
    "    for i in range(3):\n",
    "        if a[i] > b[i]:\n",
    "            scores[0] += 1\n",
    "        elif a[i] < b[i]:\n",
    "            scores[1] += 1\n",
    "    return scores  "
   ]
  },
  {
   "cell_type": "code",
   "execution_count": 14,
   "metadata": {},
   "outputs": [
    {
     "data": {
      "text/plain": [
       "[2, 1]"
      ]
     },
     "execution_count": 14,
     "metadata": {},
     "output_type": "execute_result"
    }
   ],
   "source": [
    "compareTriplets([17, 28, 30], [99, 16, 8])"
   ]
  },
  {
   "cell_type": "code",
   "execution_count": 39,
   "metadata": {
    "collapsed": true
   },
   "outputs": [],
   "source": [
    "def jumpingOnClouds(n, c):\n",
    "    jumps = i = 0\n",
    "    while i < n-1:\n",
    "        if i == n-2:\n",
    "            return jumps+1\n",
    "        if c[i+2] == 0:\n",
    "            i += 2\n",
    "            jumps += 1\n",
    "        else: \n",
    "            i += 1\n",
    "            jumps += 1\n",
    "\n",
    "    return jumps"
   ]
  },
  {
   "cell_type": "code",
   "execution_count": 40,
   "metadata": {},
   "outputs": [
    {
     "data": {
      "text/plain": [
       "4"
      ]
     },
     "execution_count": 40,
     "metadata": {},
     "output_type": "execute_result"
    }
   ],
   "source": [
    "jumpingOnClouds(7, [0, 0, 1, 0, 0, 1, 0])"
   ]
  },
  {
   "cell_type": "code",
   "execution_count": 34,
   "metadata": {
    "collapsed": true
   },
   "outputs": [],
   "source": [
    "def repeatedString(s, n):\n",
    "    return ((n - (n%len(s))) / len(s)) * s.count(\"a\") + s[:(n%len(s))].count(\"a\")"
   ]
  },
  {
   "cell_type": "code",
   "execution_count": 35,
   "metadata": {},
   "outputs": [
    {
     "data": {
      "text/plain": [
       "5.0"
      ]
     },
     "execution_count": 35,
     "metadata": {},
     "output_type": "execute_result"
    }
   ],
   "source": [
    "repeatedString(\"ab\", 10)"
   ]
  },
  {
   "cell_type": "code",
   "execution_count": 32,
   "metadata": {
    "collapsed": true
   },
   "outputs": [],
   "source": [
    "def hourglassSum(arr):\n",
    "    lis = [] \n",
    "    for i in range(len(arr)-2):\n",
    "        for j in range(len(arr[0])-2):\n",
    "            hourg = sum(arr[i][j:j+3]) + (arr[i+1][j+1]) + sum(arr[i+2][j:j+3])\n",
    "            lis.append(hourg)\n",
    "    return max(lis)"
   ]
  },
  {
   "cell_type": "code",
   "execution_count": 38,
   "metadata": {
    "collapsed": true
   },
   "outputs": [],
   "source": [
    "arr = [[1, 1, 1, 0, 0, 0], [0, 1, 0, 0, 0, 0], [1, 1, 1, 0, 0, 0], [0, 0, 2, 4, 4, 0], [0, 0, 0, 2, 0, 0], [0, 0, 1, 2, 4, 0]]"
   ]
  },
  {
   "cell_type": "code",
   "execution_count": 41,
   "metadata": {},
   "outputs": [
    {
     "data": {
      "text/plain": [
       "19"
      ]
     },
     "execution_count": 41,
     "metadata": {},
     "output_type": "execute_result"
    }
   ],
   "source": [
    "hourglassSum(arr)"
   ]
  },
  {
   "cell_type": "markdown",
   "metadata": {
    "collapsed": true
   },
   "source": [
    "one line challenge"
   ]
  },
  {
   "cell_type": "code",
   "execution_count": 46,
   "metadata": {
    "collapsed": true
   },
   "outputs": [],
   "source": [
    "def hourglassSum(arr):\n",
    "    lis = [sum(arr[i][j:j+3]) + (arr[i+1][j+1]) + sum(arr[i+2][j:j+3]) for i in range(len(arr)-2) for j in range(len(arr[0])-2)]\n",
    "    return max(lis)\n",
    "\n",
    "\n",
    "# n^2 so recusion could make it nlogn"
   ]
  },
  {
   "cell_type": "code",
   "execution_count": 54,
   "metadata": {},
   "outputs": [],
   "source": [
    "def checkMagazine(magazine, note):\n",
    "    if len(note) > len(magazine):\n",
    "        return \"No\"\n",
    "    \n",
    "    available_words = dict.fromkeys(magazine, 0)\n",
    "\n",
    "    for word in magazine:\n",
    "        available_words[word] += 1\n",
    "    \n",
    "    for word in note:\n",
    "        if word in available_words:\n",
    "            available_words[word] -= 1\n",
    "        else:\n",
    "            return \"no\"\n",
    "    \n",
    "    if min(available_words.values()) == -1:\n",
    "        return \"No\"\n",
    "    return \"Yes\""
   ]
  },
  {
   "cell_type": "code",
   "execution_count": 2,
   "metadata": {},
   "outputs": [
    {
     "data": {
      "text/plain": [
       "True"
      ]
     },
     "execution_count": 2,
     "metadata": {},
     "output_type": "execute_result"
    }
   ],
   "source": [
    "checkMagazine([\"give\", \"me\", \"one\", \"grand\", \"today\", \"night\"], [\"give\", \"one\", \"grand\", \"today\"])"
   ]
  },
  {
   "cell_type": "code",
   "execution_count": 5,
   "metadata": {},
   "outputs": [],
   "source": [
    "from collections import Counter"
   ]
  },
  {
   "cell_type": "code",
   "execution_count": 16,
   "metadata": {},
   "outputs": [
    {
     "name": "stdout",
     "output_type": "stream",
     "text": [
      "10\n",
      "2 3 4 5 6 8 7 6 5 18\n",
      "2\n",
      "6 55\n",
      "6 45\n"
     ]
    }
   ],
   "source": [
    "shoes = int(input())\n",
    "size_count = Counter(input().split())\n",
    "customers = int(input())\n",
    "customers_list = [input().split() for _ in range(customers)]\n",
    "money = 0\n",
    "for x in range(customers):\n",
    "    if size_count[customers_list[x][0]] == 0:\n",
    "        continue\n",
    "    money += int(customers_list[x][1])\n",
    "    size_count[customers_list[x][0]] -= 1"
   ]
  },
  {
   "cell_type": "code",
   "execution_count": 9,
   "metadata": {},
   "outputs": [
    {
     "name": "stdout",
     "output_type": "stream",
     "text": [
      "2\n",
      "hello\n",
      "world\n",
      "hello\n",
      "world\n"
     ]
    }
   ],
   "source": [
    "p = int(input())\n",
    "a = [[input(), input()] for _ in range(p)]\n",
    "\n",
    "for x in range(len(a)):\n",
    "    dict1 = Counter(a[x][0])\n",
    "    dict2 = Counter(a[x][1])#\n",
    "    check = False\n",
    "    for key in dict1:\n",
    "        if key in dict2:\n",
    "            #common += key * min(dict2[key], dict1[key])\n",
    "            check = True\n",
    "            break\n",
    "    if check:\n",
    "        print(\"YES\")\n",
    "    else:\n",
    "        print(\"NO\")"
   ]
  },
  {
   "cell_type": "code",
   "execution_count": null,
   "metadata": {},
   "outputs": [],
   "source": [
    "def bubbleSort()"
   ]
  }
 ],
 "metadata": {
  "kernelspec": {
   "display_name": "Python 3",
   "language": "python",
   "name": "python3"
  },
  "language_info": {
   "codemirror_mode": {
    "name": "ipython",
    "version": 3
   },
   "file_extension": ".py",
   "mimetype": "text/x-python",
   "name": "python",
   "nbconvert_exporter": "python",
   "pygments_lexer": "ipython3",
   "version": "3.7.0"
  }
 },
 "nbformat": 4,
 "nbformat_minor": 2
}
