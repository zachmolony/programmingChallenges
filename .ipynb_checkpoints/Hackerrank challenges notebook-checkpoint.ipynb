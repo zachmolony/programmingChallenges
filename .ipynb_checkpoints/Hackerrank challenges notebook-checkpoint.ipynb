{
 "cells": [
  {
   "cell_type": "markdown",
   "metadata": {},
   "source": [
    "# Hacker Rank challenges"
   ]
  },
  {
   "cell_type": "code",
   "execution_count": null,
   "metadata": {
    "collapsed": true
   },
   "outputs": [],
   "source": [
    "# nested lists\n",
    "\n",
    "students = [[str(input()), float(input())] for _ in range(int(input()))]\n",
    "\n",
    "arr = [item[1] for item in students]\n",
    "arr.sort()\n",
    "lowest = min(arr)\n",
    "\n",
    "for item in arr:\n",
    "    if item > lowest:\n",
    "        answer = item\n",
    "        break\n",
    "\n",
    "arr = [item[0] for item in students if item[1] == answer]\n",
    "arr.sort()\n",
    "\n",
    "for item in arr:\n",
    "    print(item, end=\"\\n\")"
   ]
  },
  {
   "cell_type": "code",
   "execution_count": null,
   "metadata": {
    "collapsed": true
   },
   "outputs": [],
   "source": [
    "students = [['Harry', 37.21], ['Berry', 37.21], ['Tina', 37.2], ['Akriti', 41], ['Harsh', 39]]\n",
    "    \n",
    "arr = [item[1] for item in students]\n",
    "arr.sort()\n",
    "lowest = min(arr)\n",
    "\n",
    "for item in arr:\n",
    "    if item > lowest:\n",
    "        answer = item\n",
    "        break\n",
    "\n",
    "arr = [item[0] for item in students if item[1] == answer]\n",
    "arr.sort()\n",
    "\n",
    "for item in arr:\n",
    "    print(item, end=\"\\n\")"
   ]
  },
  {
   "cell_type": "code",
   "execution_count": null,
   "metadata": {
    "collapsed": true
   },
   "outputs": [],
   "source": [
    "# list command compiler\n",
    "\n",
    "datalist = [] \n",
    "\n",
    "n = int(input())\n",
    "\n",
    "for _ in range(n):\n",
    "    line = input().split()\n",
    "    if line[0] == \"insert\":\n",
    "        datalist.insert(int(line[1]), int(line[2]))\n",
    "    elif line[0] == \"print\":\n",
    "        print(datalist)\n",
    "    elif line[0] == \"sort\":\n",
    "        datalist.sort()\n",
    "    elif line[0] == \"pop\":\n",
    "        datalist.pop()\n",
    "    elif line[0] == \"reverse\":\n",
    "        datalist.reverse()\n",
    "    elif line[0] == \"append\":\n",
    "        datalist.append(line[1])\n",
    "    elif line[0] == \"remove\":\n",
    "        datalist.remove(line[1])"
   ]
  },
  {
   "cell_type": "code",
   "execution_count": null,
   "metadata": {
    "collapsed": true
   },
   "outputs": [],
   "source": [
    "datalist"
   ]
  },
  {
   "cell_type": "code",
   "execution_count": 6,
   "metadata": {},
   "outputs": [
    {
     "name": "stdout",
     "output_type": "stream",
     "text": [
      "2\n",
      "1 2\n"
     ]
    },
    {
     "data": {
      "text/plain": [
       "3713081631934410656"
      ]
     },
     "execution_count": 6,
     "metadata": {},
     "output_type": "execute_result"
    }
   ],
   "source": [
    "# tuples\n",
    "\n",
    "n = int(input())\n",
    "\n",
    "l = list(map(int, input().split()))\n",
    "h = hash(tuple(l))\n",
    "print(h)"
   ]
  },
  {
   "cell_type": "code",
   "execution_count": 10,
   "metadata": {},
   "outputs": [
    {
     "name": "stdout",
     "output_type": "stream",
     "text": [
      "Hello.\n",
      "hELLO.\n"
     ]
    }
   ],
   "source": [
    "# sWAP cASE\n",
    "\n",
    "s = input()\n",
    "newstring = \"\"\n",
    "\n",
    "for char in s:\n",
    "    if 64 < ord(char) < 91:\n",
    "        newstring += char.lower()\n",
    "    elif 96 < ord(char) < 123:\n",
    "        newstring += char.upper()\n",
    "    else:\n",
    "        newstring += char\n",
    "print(newstring)"
   ]
  },
  {
   "cell_type": "code",
   "execution_count": 19,
   "metadata": {},
   "outputs": [
    {
     "name": "stdout",
     "output_type": "stream",
     "text": [
      "sdf-sf-sf\n"
     ]
    }
   ],
   "source": [
    "# string split and join\n",
    "\n",
    "line = \"sdf sf sf\"\n",
    "a = line.split()\n",
    "a = \"-\".join(a)\n",
    "print(a)"
   ]
  },
  {
   "cell_type": "code",
   "execution_count": null,
   "metadata": {},
   "outputs": [],
   "source": [
    "# whats your name\n",
    "\n",
    "first = input()\n",
    "last = input()\n",
    "\n",
    "print(\"Hello {x} {y}! You just delved into python.\".format({first}, {last}))"
   ]
  },
  {
   "cell_type": "code",
   "execution_count": null,
   "metadata": {
    "collapsed": true
   },
   "outputs": [],
   "source": []
  }
 ],
 "metadata": {
  "kernelspec": {
   "display_name": "Python 3",
   "language": "python",
   "name": "python3"
  },
  "language_info": {
   "codemirror_mode": {
    "name": "ipython",
    "version": 3
   },
   "file_extension": ".py",
   "mimetype": "text/x-python",
   "name": "python",
   "nbconvert_exporter": "python",
   "pygments_lexer": "ipython3",
   "version": "3.6.3"
  }
 },
 "nbformat": 4,
 "nbformat_minor": 2
}
