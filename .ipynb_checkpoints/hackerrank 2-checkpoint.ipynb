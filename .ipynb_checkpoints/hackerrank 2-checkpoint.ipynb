{
 "cells": [
  {
   "cell_type": "code",
   "execution_count": 2,
   "metadata": {
    "collapsed": true
   },
   "outputs": [],
   "source": [
    "#!/bin/python3\n",
    "\n",
    "import math\n",
    "import os\n",
    "import random\n",
    "import re\n",
    "import sys"
   ]
  },
  {
   "cell_type": "code",
   "execution_count": 39,
   "metadata": {},
   "outputs": [
    {
     "ename": "SyntaxError",
     "evalue": "invalid syntax (<ipython-input-39-7e846106e506>, line 9)",
     "output_type": "error",
     "traceback": [
      "\u001b[1;36m  File \u001b[1;32m\"<ipython-input-39-7e846106e506>\"\u001b[1;36m, line \u001b[1;32m9\u001b[0m\n\u001b[1;33m    count++\u001b[0m\n\u001b[1;37m           ^\u001b[0m\n\u001b[1;31mSyntaxError\u001b[0m\u001b[1;31m:\u001b[0m invalid syntax\n"
     ]
    }
   ],
   "source": [
    "# Complete the sockMerchant function below.\n",
    "def sockMerchant(n, ar):\n",
    "    count = 0 \n",
    "    ar.sort()\n",
    "    print(ar)\n",
    "    i = 1\n",
    "    while i < n:\n",
    "        if ar[i] == ar[i-1]:\n",
    "            count += 1\n",
    "            i += 1\n",
    "        i += 1\n",
    "    return count"
   ]
  },
  {
   "cell_type": "code",
   "execution_count": 41,
   "metadata": {},
   "outputs": [
    {
     "name": "stdout",
     "output_type": "stream",
     "text": [
      "[10, 10, 10, 10, 20, 20, 20, 30, 50]\n"
     ]
    },
    {
     "data": {
      "text/plain": [
       "3"
      ]
     },
     "execution_count": 41,
     "metadata": {},
     "output_type": "execute_result"
    }
   ],
   "source": [
    "sockMerchant(9, [10, 20, 20, 10, 10, 30, 50, 10, 20])"
   ]
  },
  {
   "cell_type": "code",
   "execution_count": 58,
   "metadata": {
    "collapsed": true
   },
   "outputs": [],
   "source": [
    "# Complete the countingValleys function below.\n",
    "def countingValleys(n, s):\n",
    "    valley = False\n",
    "    vcount = 0 \n",
    "    level = 0\n",
    "    for char in s:\n",
    "        if char == \"D\":\n",
    "            level -= 1\n",
    "        else:\n",
    "            level += 1\n",
    "        if level < 0:\n",
    "            valley = True\n",
    "        if valley == True and level == 0:\n",
    "            valley = False\n",
    "            vcount += 1\n",
    "    return vcount"
   ]
  },
  {
   "cell_type": "code",
   "execution_count": 59,
   "metadata": {},
   "outputs": [
    {
     "data": {
      "text/plain": [
       "1"
      ]
     },
     "execution_count": 59,
     "metadata": {},
     "output_type": "execute_result"
    }
   ],
   "source": [
    "countingValleys(8, \"UDDDUDUU\")"
   ]
  },
  {
   "cell_type": "code",
   "execution_count": 13,
   "metadata": {
    "collapsed": true
   },
   "outputs": [],
   "source": [
    "def compareTriplets(a, b):\n",
    "    scores = [0,0]\n",
    "    for i in range(3):\n",
    "        if a[i] > b[i]:\n",
    "            scores[0] += 1\n",
    "        elif a[i] < b[i]:\n",
    "            scores[1] += 1\n",
    "    return scores  "
   ]
  },
  {
   "cell_type": "code",
   "execution_count": 14,
   "metadata": {},
   "outputs": [
    {
     "data": {
      "text/plain": [
       "[2, 1]"
      ]
     },
     "execution_count": 14,
     "metadata": {},
     "output_type": "execute_result"
    }
   ],
   "source": [
    "compareTriplets([17, 28, 30], [99, 16, 8])"
   ]
  },
  {
   "cell_type": "code",
   "execution_count": 39,
   "metadata": {
    "collapsed": true
   },
   "outputs": [],
   "source": [
    "def jumpingOnClouds(n, c):\n",
    "    jumps = i = 0\n",
    "    while i < n-1:\n",
    "        if i == n-2:\n",
    "            return jumps+1\n",
    "        if c[i+2] == 0:\n",
    "            i += 2\n",
    "            jumps += 1\n",
    "        else: \n",
    "            i += 1\n",
    "            jumps += 1\n",
    "\n",
    "    return jumps"
   ]
  },
  {
   "cell_type": "code",
   "execution_count": 40,
   "metadata": {},
   "outputs": [
    {
     "data": {
      "text/plain": [
       "4"
      ]
     },
     "execution_count": 40,
     "metadata": {},
     "output_type": "execute_result"
    }
   ],
   "source": [
    "jumpingOnClouds(7, [0, 0, 1, 0, 0, 1, 0])"
   ]
  },
  {
   "cell_type": "code",
   "execution_count": 34,
   "metadata": {
    "collapsed": true
   },
   "outputs": [],
   "source": [
    "def repeatedString(s, n):\n",
    "    return ((n - (n%len(s))) / len(s)) * s.count(\"a\") + s[:(n%len(s))].count(\"a\")"
   ]
  },
  {
   "cell_type": "code",
   "execution_count": 35,
   "metadata": {},
   "outputs": [
    {
     "data": {
      "text/plain": [
       "5.0"
      ]
     },
     "execution_count": 35,
     "metadata": {},
     "output_type": "execute_result"
    }
   ],
   "source": [
    "repeatedString(\"ab\", 10)"
   ]
  },
  {
   "cell_type": "code",
   "execution_count": 32,
   "metadata": {
    "collapsed": true
   },
   "outputs": [],
   "source": [
    "def hourglassSum(arr):\n",
    "    lis = [] \n",
    "    for i in range(len(arr)-2):\n",
    "        for j in range(len(arr[0])-2):\n",
    "            hourg = sum(arr[i][j:j+3]) + (arr[i+1][j+1]) + sum(arr[i+2][j:j+3])\n",
    "            lis.append(hourg)\n",
    "    return max(lis)"
   ]
  },
  {
   "cell_type": "code",
   "execution_count": 38,
   "metadata": {
    "collapsed": true
   },
   "outputs": [],
   "source": [
    "arr = [[1, 1, 1, 0, 0, 0], [0, 1, 0, 0, 0, 0], [1, 1, 1, 0, 0, 0], [0, 0, 2, 4, 4, 0], [0, 0, 0, 2, 0, 0], [0, 0, 1, 2, 4, 0]]"
   ]
  },
  {
   "cell_type": "code",
   "execution_count": 41,
   "metadata": {},
   "outputs": [
    {
     "data": {
      "text/plain": [
       "19"
      ]
     },
     "execution_count": 41,
     "metadata": {},
     "output_type": "execute_result"
    }
   ],
   "source": [
    "hourglassSum(arr)"
   ]
  },
  {
   "cell_type": "markdown",
   "metadata": {
    "collapsed": true
   },
   "source": [
    "one line challenge"
   ]
  },
  {
   "cell_type": "code",
   "execution_count": 46,
   "metadata": {
    "collapsed": true
   },
   "outputs": [],
   "source": [
    "def hourglassSum(arr):\n",
    "    lis = [sum(arr[i][j:j+3]) + (arr[i+1][j+1]) + sum(arr[i+2][j:j+3]) for i in range(len(arr)-2) for j in range(len(arr[0])-2)]\n",
    "    return max(lis)\n",
    "\n",
    "\n",
    "# n^2 so recusion could make it nlogn"
   ]
  },
  {
   "cell_type": "code",
   "execution_count": 54,
   "metadata": {},
   "outputs": [],
   "source": [
    "def checkMagazine(magazine, note):\n",
    "    if len(note) > len(magazine):\n",
    "        return \"No\"\n",
    "    \n",
    "    available_words = dict.fromkeys(magazine, 0)\n",
    "\n",
    "    for word in magazine:\n",
    "        available_words[word] += 1\n",
    "    \n",
    "    for word in note:\n",
    "        if word in available_words:\n",
    "            available_words[word] -= 1\n",
    "        else:\n",
    "            return \"no\"\n",
    "    \n",
    "    if min(available_words.values()) == -1:\n",
    "        return \"No\"\n",
    "    return \"Yes\""
   ]
  },
  {
   "cell_type": "code",
   "execution_count": 58,
   "metadata": {},
   "outputs": [
    {
     "data": {
      "text/plain": [
       "'No'"
      ]
     },
     "execution_count": 58,
     "metadata": {},
     "output_type": "execute_result"
    }
   ],
   "source": [
    "checkMagazine([\"give\", \"me\", \"one\", \"grand\", \"today\", \"night\"], [\"give\", \"one\", \"grand\", \"today\"])"
   ]
  },
  {
   "cell_type": "code",
   "execution_count": null,
   "metadata": {
    "collapsed": true
   },
   "outputs": [],
   "source": []
  }
 ],
 "metadata": {
  "kernelspec": {
   "display_name": "Python 3",
   "language": "python",
   "name": "python3"
  },
  "language_info": {
   "codemirror_mode": {
    "name": "ipython",
    "version": 3
   },
   "file_extension": ".py",
   "mimetype": "text/x-python",
   "name": "python",
   "nbconvert_exporter": "python",
   "pygments_lexer": "ipython3",
   "version": "3.6.3"
  }
 },
 "nbformat": 4,
 "nbformat_minor": 2
}
