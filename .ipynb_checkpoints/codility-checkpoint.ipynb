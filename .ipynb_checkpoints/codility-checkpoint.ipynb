{
 "cells": [
  {
   "cell_type": "markdown",
   "metadata": {},
   "source": [
    "## Lesson 1 - Iterations"
   ]
  },
  {
   "cell_type": "markdown",
   "metadata": {},
   "source": [
    "https://app.codility.com/programmers/lessons/1-iterations/"
   ]
  },
  {
   "cell_type": "code",
   "execution_count": 2,
   "metadata": {
    "collapsed": true
   },
   "outputs": [],
   "source": [
    "#O(n)\n",
    "def binaryGap(N):\n",
    "    binary = '{0:b}'.format(N)\n",
    "    \n",
    "    scores = []\n",
    "    gap = False\n",
    "    count = 0\n",
    "    \n",
    "    for x in range(len(binary)):\n",
    "        if gap:\n",
    "            if binary[x] == \"1\":\n",
    "                scores.append(count)\n",
    "                gap = False\n",
    "                count = 0\n",
    "            else:\n",
    "                count += 1\n",
    "        if binary[x] == \"0\":\n",
    "            if binary[x-1] == \"1\":\n",
    "                gap = True\n",
    "                count += 1\n",
    "    \n",
    "    if len(scores) == 0:\n",
    "        return 0\n",
    "    \n",
    "    return max(scores)"
   ]
  },
  {
   "cell_type": "code",
   "execution_count": 15,
   "metadata": {
    "collapsed": true
   },
   "outputs": [],
   "source": [
    "A = [3, 8, 9, 7, 6, 4, 67, 2, 3, 2, 6]\n",
    "K = 3"
   ]
  },
  {
   "cell_type": "code",
   "execution_count": 14,
   "metadata": {
    "collapsed": true
   },
   "outputs": [],
   "source": [
    "#O(n)\n",
    "def cyclicRotation(arr, k):\n",
    "    for _ in range(k):\n",
    "        last = arr.pop()\n",
    "        arr.insert(0, last)\n",
    "    return arr"
   ]
  },
  {
   "cell_type": "markdown",
   "metadata": {},
   "source": [
    "## Lesson 2 - Arrays"
   ]
  },
  {
   "cell_type": "markdown",
   "metadata": {},
   "source": [
    "https://app.codility.com/programmers/lessons/2-arrays/"
   ]
  },
  {
   "cell_type": "code",
   "execution_count": 19,
   "metadata": {
    "collapsed": true
   },
   "outputs": [],
   "source": [
    "#O(1)\n",
    "def cyclicRotation(arr, k):\n",
    "    if len(arr) == 0:\n",
    "        return arr\n",
    "    k %= len(arr)\n",
    "    return arr[len(arr)-k:] + arr[:len(arr)-k]"
   ]
  },
  {
   "cell_type": "code",
   "execution_count": 20,
   "metadata": {},
   "outputs": [
    {
     "data": {
      "text/plain": [
       "[3, 5, 1, 1, 2]"
      ]
     },
     "execution_count": 20,
     "metadata": {},
     "output_type": "execute_result"
    }
   ],
   "source": [
    "cyclicRotation([1, 1, 2, 3, 5], 42)"
   ]
  },
  {
   "cell_type": "code",
   "execution_count": 22,
   "metadata": {
    "collapsed": true
   },
   "outputs": [],
   "source": [
    "#O(N) or O(n*logn)\n",
    "def nonPair(arr):\n",
    "    arr.sort()\n",
    "    if len(arr) == 1:\n",
    "        return arr[0]\n",
    "    i = 1\n",
    "    while i < len(arr)-1:\n",
    "        if arr[i] == arr[i-1]:\n",
    "            i += 2\n",
    "        else:\n",
    "            return arr[i-1]\n",
    "    return arr[-1]"
   ]
  },
  {
   "cell_type": "code",
   "execution_count": 23,
   "metadata": {},
   "outputs": [
    {
     "data": {
      "text/plain": [
       "7"
      ]
     },
     "execution_count": 23,
     "metadata": {},
     "output_type": "execute_result"
    }
   ],
   "source": [
    "nonPair([3, 3, 5, 5, 6, 6, 7])"
   ]
  },
  {
   "cell_type": "markdown",
   "metadata": {},
   "source": [
    "## Lesson 3 - Time Complexity"
   ]
  },
  {
   "cell_type": "markdown",
   "metadata": {},
   "source": [
    "https://app.codility.com/programmers/lessons/3-time_complexity/"
   ]
  },
  {
   "cell_type": "code",
   "execution_count": 56,
   "metadata": {
    "collapsed": true
   },
   "outputs": [],
   "source": [
    "#O(1)\n",
    "def frogJump(X, Y, D):\n",
    "    if X == Y:\n",
    "        return 0\n",
    "    dist = Y - X\n",
    "    if dist % D == 0:\n",
    "        return int(dist / D)\n",
    "    else:\n",
    "        return dist // D + 1"
   ]
  },
  {
   "cell_type": "code",
   "execution_count": 57,
   "metadata": {},
   "outputs": [
    {
     "data": {
      "text/plain": [
       "5"
      ]
     },
     "execution_count": 57,
     "metadata": {},
     "output_type": "execute_result"
    }
   ],
   "source": [
    "frogJump(10, 20, 2)"
   ]
  },
  {
   "cell_type": "code",
   "execution_count": 14,
   "metadata": {
    "collapsed": true
   },
   "outputs": [],
   "source": [
    "#O(N)\n",
    "def missingItem(A):\n",
    "    if len(A) == 0:\n",
    "        return 1\n",
    "    A.sort()\n",
    "    for i in range(len(A)):\n",
    "        if A[i] != i+1:\n",
    "            return i+1\n",
    "    return A[-1]+1"
   ]
  },
  {
   "cell_type": "code",
   "execution_count": 15,
   "metadata": {},
   "outputs": [
    {
     "data": {
      "text/plain": [
       "1"
      ]
     },
     "execution_count": 15,
     "metadata": {},
     "output_type": "execute_result"
    }
   ],
   "source": [
    "missingItem([])"
   ]
  },
  {
   "cell_type": "code",
   "execution_count": 35,
   "metadata": {
    "collapsed": true
   },
   "outputs": [],
   "source": [
    "def internalSum(A):\n",
    "    sums = []\n",
    "    first = A[0]\n",
    "    second = sum(A[1:])\n",
    "    for x in range(1, len(A)):\n",
    "        a = abs(first - second)\n",
    "        sums.append(a)\n",
    "        first -= A[x]\n",
    "        second += A[x]\n",
    "    return sums"
   ]
  },
  {
   "cell_type": "code",
   "execution_count": 36,
   "metadata": {},
   "outputs": [
    {
     "data": {
      "text/plain": [
       "[59, 167, 179]"
      ]
     },
     "execution_count": 36,
     "metadata": {},
     "output_type": "execute_result"
    }
   ],
   "source": [
    "internalSum([3, 54, 6, 2])"
   ]
  },
  {
   "cell_type": "code",
   "execution_count": null,
   "metadata": {
    "collapsed": true
   },
   "outputs": [],
   "source": []
  }
 ],
 "metadata": {
  "kernelspec": {
   "display_name": "Python 3",
   "language": "python",
   "name": "python3"
  },
  "language_info": {
   "codemirror_mode": {
    "name": "ipython",
    "version": 3
   },
   "file_extension": ".py",
   "mimetype": "text/x-python",
   "name": "python",
   "nbconvert_exporter": "python",
   "pygments_lexer": "ipython3",
   "version": "3.6.3"
  }
 },
 "nbformat": 4,
 "nbformat_minor": 2
}
