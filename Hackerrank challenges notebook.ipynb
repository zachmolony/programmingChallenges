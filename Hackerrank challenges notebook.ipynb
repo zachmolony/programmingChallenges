{
 "cells": [
  {
   "cell_type": "markdown",
   "metadata": {},
   "source": [
    "# Hacker Rank challenges"
   ]
  },
  {
   "cell_type": "code",
   "execution_count": null,
   "metadata": {},
   "outputs": [
    {
     "name": "stdout",
     "output_type": "stream",
     "text": [
      "4\n"
     ]
    }
   ],
   "source": [
    "# nested lists\n",
    "\n",
    "students = [[str(input()), float(input())] for _ in range(int(input()))]\n",
    "\n",
    "arr = [item[1] for item in students]\n",
    "arr.sort()\n",
    "lowest = min(arr)\n",
    "\n",
    "for item in arr:\n",
    "    if item > lowest:\n",
    "        answer = item\n",
    "        break\n",
    "\n",
    "arr = [item[0] for item in students if item[1] == answer]\n",
    "arr.sort()\n",
    "\n",
    "for item in arr:\n",
    "    print(item, end=\"\\n\")"
   ]
  },
  {
   "cell_type": "code",
   "execution_count": 20,
   "metadata": {},
   "outputs": [
    {
     "name": "stdout",
     "output_type": "stream",
     "text": [
      "Berry\n",
      "Harry\n"
     ]
    }
   ],
   "source": [
    "students = [['Harry', 37.21], ['Berry', 37.21], ['Tina', 37.2], ['Akriti', 41], ['Harsh', 39]]\n",
    "    \n",
    "arr = [item[1] for item in students]\n",
    "arr.sort()\n",
    "lowest = min(arr)\n",
    "\n",
    "for item in arr:\n",
    "    if item > lowest:\n",
    "        answer = item\n",
    "        break\n",
    "\n",
    "arr = [item[0] for item in students if item[1] == answer]\n",
    "arr.sort()\n",
    "\n",
    "for item in arr:\n",
    "    print(item, end=\"\\n\")"
   ]
  },
  {
   "cell_type": "code",
   "execution_count": null,
   "metadata": {},
   "outputs": [],
   "source": []
  },
  {
   "cell_type": "code",
   "execution_count": null,
   "metadata": {},
   "outputs": [],
   "source": []
  }
 ],
 "metadata": {
  "kernelspec": {
   "display_name": "Python 3",
   "language": "python",
   "name": "python3"
  },
  "language_info": {
   "codemirror_mode": {
    "name": "ipython",
    "version": 3
   },
   "file_extension": ".py",
   "mimetype": "text/x-python",
   "name": "python",
   "nbconvert_exporter": "python",
   "pygments_lexer": "ipython3",
   "version": "3.6.5"
  }
 },
 "nbformat": 4,
 "nbformat_minor": 2
}
