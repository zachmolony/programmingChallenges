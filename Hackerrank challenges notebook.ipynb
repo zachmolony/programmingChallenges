{
 "cells": [
  {
   "cell_type": "markdown",
   "metadata": {},
   "source": [
    "# Hacker Rank challenges"
   ]
  },
  {
   "cell_type": "code",
   "execution_count": null,
   "metadata": {
    "collapsed": true
   },
   "outputs": [],
   "source": [
    "# nested lists\n",
    "\n",
    "students = [[str(input()), float(input())] for _ in range(int(input()))]\n",
    "\n",
    "arr = [item[1] for item in students]\n",
    "arr.sort()\n",
    "lowest = min(arr)\n",
    "\n",
    "for item in arr:\n",
    "    if item > lowest:\n",
    "        answer = item\n",
    "        break\n",
    "\n",
    "arr = [item[0] for item in students if item[1] == answer]\n",
    "arr.sort()\n",
    "\n",
    "for item in arr:\n",
    "    print(item, end=\"\\n\")"
   ]
  },
  {
   "cell_type": "code",
   "execution_count": null,
   "metadata": {
    "collapsed": true
   },
   "outputs": [],
   "source": [
    "students = [['Harry', 37.21], ['Berry', 37.21], ['Tina', 37.2], ['Akriti', 41], ['Harsh', 39]]\n",
    "    \n",
    "arr = [item[1] for item in students]\n",
    "arr.sort()\n",
    "lowest = min(arr)\n",
    "\n",
    "for item in arr:\n",
    "    if item > lowest:\n",
    "        answer = item\n",
    "        break\n",
    "\n",
    "arr = [item[0] for item in students if item[1] == answer]\n",
    "arr.sort()\n",
    "\n",
    "for item in arr:\n",
    "    print(item, end=\"\\n\")"
   ]
  },
  {
   "cell_type": "code",
   "execution_count": null,
   "metadata": {
    "collapsed": true
   },
   "outputs": [],
   "source": [
    "# list command compiler\n",
    "\n",
    "datalist = [] \n",
    "\n",
    "n = int(input())\n",
    "\n",
    "for _ in range(n):\n",
    "    line = input().split()\n",
    "    if line[0] == \"insert\":\n",
    "        datalist.insert(int(line[1]), int(line[2]))\n",
    "    elif line[0] == \"print\":\n",
    "        print(datalist)\n",
    "    elif line[0] == \"sort\":\n",
    "        datalist.sort()\n",
    "    elif line[0] == \"pop\":\n",
    "        datalist.pop()\n",
    "    elif line[0] == \"reverse\":\n",
    "        datalist.reverse()\n",
    "    elif line[0] == \"append\":\n",
    "        datalist.append(line[1])\n",
    "    elif line[0] == \"remove\":\n",
    "        datalist.remove(line[1])"
   ]
  },
  {
   "cell_type": "code",
   "execution_count": null,
   "metadata": {
    "collapsed": true
   },
   "outputs": [],
   "source": [
    "datalist"
   ]
  },
  {
   "cell_type": "code",
   "execution_count": 6,
   "metadata": {},
   "outputs": [
    {
     "name": "stdout",
     "output_type": "stream",
     "text": [
      "2\n",
      "1 2\n"
     ]
    },
    {
     "data": {
      "text/plain": [
       "3713081631934410656"
      ]
     },
     "execution_count": 6,
     "metadata": {},
     "output_type": "execute_result"
    }
   ],
   "source": [
    "# tuples\n",
    "\n",
    "n = int(input())\n",
    "\n",
    "l = list(map(int, input().split()))\n",
    "h = hash(tuple(l))\n",
    "print(h)"
   ]
  },
  {
   "cell_type": "code",
   "execution_count": 10,
   "metadata": {},
   "outputs": [
    {
     "name": "stdout",
     "output_type": "stream",
     "text": [
      "Hello.\n",
      "hELLO.\n"
     ]
    }
   ],
   "source": [
    "# sWAP cASE\n",
    "\n",
    "s = input()\n",
    "newstring = \"\"\n",
    "\n",
    "for char in s:\n",
    "    if 64 < ord(char) < 91:\n",
    "        newstring += char.lower()\n",
    "    elif 96 < ord(char) < 123:\n",
    "        newstring += char.upper()\n",
    "    else:\n",
    "        newstring += char\n",
    "print(newstring)"
   ]
  },
  {
   "cell_type": "code",
   "execution_count": 19,
   "metadata": {},
   "outputs": [
    {
     "name": "stdout",
     "output_type": "stream",
     "text": [
      "sdf-sf-sf\n"
     ]
    }
   ],
   "source": [
    "# string split and join\n",
    "\n",
    "line = \"sdf sf sf\"\n",
    "a = line.split()\n",
    "a = \"-\".join(a)\n",
    "print(a)"
   ]
  },
  {
   "cell_type": "code",
   "execution_count": 3,
   "metadata": {},
   "outputs": [
    {
     "name": "stdout",
     "output_type": "stream",
     "text": [
      "ac\n",
      "dcs\n",
      "Hello ac dcs! You just delved into python.\n"
     ]
    }
   ],
   "source": [
    "# whats your name\n",
    "\n",
    "first = input()\n",
    "last = input()\n",
    "\n",
    "print(\"Hello {} {}! You just delved into python.\".format(first, last))"
   ]
  },
  {
   "cell_type": "code",
   "execution_count": 7,
   "metadata": {},
   "outputs": [
    {
     "name": "stdout",
     "output_type": "stream",
     "text": [
      "howdy\n",
      "2 f\n",
      "hofdy\n"
     ]
    }
   ],
   "source": [
    "# mutations\n",
    "\n",
    "word = input()\n",
    "\n",
    "# [index, char]\n",
    "params = input().split()\n",
    "\n",
    "l = list(word)\n",
    "l[int(params[0])] = params[1]\n",
    "print(\"\".join(l))"
   ]
  },
  {
   "cell_type": "code",
   "execution_count": 7,
   "metadata": {},
   "outputs": [
    {
     "name": "stdout",
     "output_type": "stream",
     "text": [
      "ABCDCDC\n",
      "CDC\n",
      "CDC 0 3\n",
      "CDC A C\n",
      "0\n",
      "CDC 1 4\n",
      "CDC B D\n",
      "0\n",
      "CDC 2 5\n",
      "CDC C C\n",
      "1\n",
      "CDC 3 6\n",
      "CDC D D\n",
      "1\n",
      "2\n"
     ]
    },
    {
     "data": {
      "text/plain": [
       "1"
      ]
     },
     "execution_count": 7,
     "metadata": {},
     "output_type": "execute_result"
    }
   ],
   "source": [
    "# find a string\n",
    "\n",
    "count = 0\n",
    "\n",
    "string = input()\n",
    "substring = input()\n",
    "\n",
    "for x in range(0, len(string)):\n",
    "    \n",
    "    if x+len(substring) >= len(string):\n",
    "        if substring in string[x:]:\n",
    "            print(count+1)\n",
    "            break\n",
    "    \n",
    "    if substring in string[x:x+len(substring)]:\n",
    "        count += 1\n",
    "\n",
    "    print(substring, x, x+len(substring))\n",
    "    print(substring, string[x], string[x+len(substring)-1])\n",
    "    print(count)\n",
    "    \n",
    "count"
   ]
  },
  {
   "cell_type": "code",
   "execution_count": 16,
   "metadata": {},
   "outputs": [
    {
     "name": "stdout",
     "output_type": "stream",
     "text": [
      "qA2\n",
      "True\n",
      "True\n",
      "True\n",
      "True\n",
      "True\n"
     ]
    }
   ],
   "source": [
    "# string validators\n",
    "\n",
    "s = input()\n",
    "\n",
    "alnum = alpha = digit = lower = upper = False\n",
    "\n",
    "for char in s:\n",
    "    if char.isalnum():\n",
    "        alnum = True\n",
    "    if char.isalpha():\n",
    "        alpha = True\n",
    "    if char.isdigit():\n",
    "        digit = True\n",
    "    if char.islower():\n",
    "        lower = True\n",
    "    if char.isupper():\n",
    "        upper = True\n",
    "\n",
    "print(alnum, alpha, digit, lower, upper, sep=\"\\n\")"
   ]
  },
  {
   "cell_type": "code",
   "execution_count": 17,
   "metadata": {},
   "outputs": [
    {
     "name": "stdout",
     "output_type": "stream",
     "text": [
      "3\n"
     ]
    },
    {
     "ename": "AttributeError",
     "evalue": "'str' object has no attribute '______'",
     "output_type": "error",
     "traceback": [
      "\u001b[1;31m---------------------------------------------------------------------------\u001b[0m",
      "\u001b[1;31mAttributeError\u001b[0m                            Traceback (most recent call last)",
      "\u001b[1;32m<ipython-input-17-ad6b98e2c4ff>\u001b[0m in \u001b[0;36m<module>\u001b[1;34m()\u001b[0m\n\u001b[0;32m      6\u001b[0m \u001b[1;31m#Top Cone\u001b[0m\u001b[1;33m\u001b[0m\u001b[1;33m\u001b[0m\u001b[0m\n\u001b[0;32m      7\u001b[0m \u001b[1;32mfor\u001b[0m \u001b[0mi\u001b[0m \u001b[1;32min\u001b[0m \u001b[0mrange\u001b[0m\u001b[1;33m(\u001b[0m\u001b[0mthickness\u001b[0m\u001b[1;33m)\u001b[0m\u001b[1;33m:\u001b[0m\u001b[1;33m\u001b[0m\u001b[0m\n\u001b[1;32m----> 8\u001b[1;33m     \u001b[0mprint\u001b[0m\u001b[1;33m(\u001b[0m\u001b[1;33m(\u001b[0m\u001b[0mc\u001b[0m\u001b[1;33m*\u001b[0m\u001b[0mi\u001b[0m\u001b[1;33m)\u001b[0m\u001b[1;33m.\u001b[0m\u001b[0m______\u001b[0m\u001b[1;33m(\u001b[0m\u001b[0mthickness\u001b[0m\u001b[1;33m-\u001b[0m\u001b[1;36m1\u001b[0m\u001b[1;33m)\u001b[0m\u001b[1;33m+\u001b[0m\u001b[0mc\u001b[0m\u001b[1;33m+\u001b[0m\u001b[1;33m(\u001b[0m\u001b[0mc\u001b[0m\u001b[1;33m*\u001b[0m\u001b[0mi\u001b[0m\u001b[1;33m)\u001b[0m\u001b[1;33m.\u001b[0m\u001b[0m______\u001b[0m\u001b[1;33m(\u001b[0m\u001b[0mthickness\u001b[0m\u001b[1;33m-\u001b[0m\u001b[1;36m1\u001b[0m\u001b[1;33m)\u001b[0m\u001b[1;33m)\u001b[0m\u001b[1;33m\u001b[0m\u001b[0m\n\u001b[0m\u001b[0;32m      9\u001b[0m \u001b[1;33m\u001b[0m\u001b[0m\n\u001b[0;32m     10\u001b[0m \u001b[1;31m#Top Pillars\u001b[0m\u001b[1;33m\u001b[0m\u001b[1;33m\u001b[0m\u001b[0m\n",
      "\u001b[1;31mAttributeError\u001b[0m: 'str' object has no attribute '______'"
     ]
    }
   ],
   "source": [
    "# text alignment\n",
    "\n",
    "thickness = int(input()) #This must be an odd number\n",
    "c = 'H'\n",
    "\n",
    "#Top Cone\n",
    "for i in range(thickness):\n",
    "    print((c*i).______(thickness-1)+c+(c*i).______(thickness-1))\n",
    "\n",
    "#Top Pillars\n",
    "for i in range(thickness+1):\n",
    "    print((c*thickness).______(thickness*2)+(c*thickness).______(thickness*6))\n",
    "\n",
    "#Middle Belt\n",
    "for i in range((thickness+1)//2):\n",
    "    print((c*thickness*5).______(thickness*6))    \n",
    "\n",
    "#Bottom Pillars\n",
    "for i in range(thickness+1):\n",
    "    print((c*thickness).______(thickness*2)+(c*thickness).______(thickness*6))    \n",
    "\n",
    "#Bottom Cone\n",
    "for i in range(thickness):\n",
    "    print(((c*(thickness-i-1)).______(thickness)+c+(c*(thickness-i-1)).______(thickness)).______(thickness*6))\n",
    "\n"
   ]
  },
  {
   "cell_type": "code",
   "execution_count": null,
   "metadata": {
    "collapsed": true
   },
   "outputs": [],
   "source": []
  }
 ],
 "metadata": {
  "kernelspec": {
   "display_name": "Python 3",
   "language": "python",
   "name": "python3"
  },
  "language_info": {
   "codemirror_mode": {
    "name": "ipython",
    "version": 3
   },
   "file_extension": ".py",
   "mimetype": "text/x-python",
   "name": "python",
   "nbconvert_exporter": "python",
   "pygments_lexer": "ipython3",
   "version": "3.6.3"
  }
 },
 "nbformat": 4,
 "nbformat_minor": 2
}
